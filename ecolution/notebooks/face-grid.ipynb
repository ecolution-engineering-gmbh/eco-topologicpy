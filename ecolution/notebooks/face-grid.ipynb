{
 "cells": [
  {
   "cell_type": "code",
   "id": "initial_id",
   "metadata": {
    "collapsed": true,
    "ExecuteTime": {
     "end_time": "2025-01-29T11:42:38.193902Z",
     "start_time": "2025-01-29T11:42:37.056561Z"
    }
   },
   "source": [
    "from topologicpy.Graph import Graph\n",
    "from topologicpy.Helper import Helper\n",
    "import topologicpy\n",
    "from topologicpy.Topology import Topology\n",
    "from topologicpy.Vertex import Vertex\n",
    "from topologicpy.Wire import Wire\n",
    "from topologicpy.Face import Face\n",
    "from topologicpy.Shell import Shell\n",
    "from topologicpy.Cell import Cell\n",
    "from topologicpy.Dictionary import Dictionary\n",
    "from topologicpy.Cluster import Cluster\n",
    "from src.topologicpy.Edge import Edge\n",
    "\n",
    "print(Helper.Version())\n",
    "renderer = \"browser\"\n",
    "print(topologicpy.__file__)  # Zeigt den Pfad der geladenen TopologicPy-Version\n"
   ],
   "outputs": [
    {
     "name": "stdout",
     "output_type": "stream",
     "text": [
      "The version that you are using (0.8.15) is the latest version available on PyPI.\n",
      "/Users/roger/miniconda3/lib/python3.12/site-packages/topologicpy/__init__.py\n"
     ]
    }
   ],
   "execution_count": 1
  },
  {
   "metadata": {
    "ExecuteTime": {
     "end_time": "2025-01-29T11:42:38.203316Z",
     "start_time": "2025-01-29T11:42:38.196774Z"
    }
   },
   "cell_type": "code",
   "source": [
    "import topologic_core as topologic\n",
    "\n",
    "\n",
    "def rectangle_face(min_x, min_y, max_x, max_y):\n",
    "    \"\"\"\n",
    "    Manually build a rectangle face in the XY plane from (min_x, min_y) to (max_x, max_y).\n",
    "    1. Make four vertices\n",
    "    2. Make four edges\n",
    "    3. Combine into a wire\n",
    "    4. Make a face by Face.ByExternalBoundary\n",
    "    \"\"\"\n",
    "    # 1. Corner vertices in 2D (z=0)\n",
    "    vA = topologic.Vertex.ByCoordinates(min_x, min_y, 0)\n",
    "    vB = topologic.Vertex.ByCoordinates(max_x, min_y, 0)\n",
    "    vC = topologic.Vertex.ByCoordinates(max_x, max_y, 0)\n",
    "    vD = topologic.Vertex.ByCoordinates(min_x, max_y, 0)\n",
    "\n",
    "    # 2. Four edges\n",
    "    eAB = topologic.Edge.ByStartVertexEndVertex(vA, vB)\n",
    "    eBC = topologic.Edge.ByStartVertexEndVertex(vB, vC)\n",
    "    eCD = topologic.Edge.ByStartVertexEndVertex(vC, vD)\n",
    "    eDA = topologic.Edge.ByStartVertexEndVertex(vD, vA)\n",
    "\n",
    "    # 3. Single wire from these edges\n",
    "    rect_wire = topologic.Wire.ByEdges([eAB, eBC, eCD, eDA], False)\n",
    "\n",
    "    # 4. Face from the wire\n",
    "    rect_face = topologic.Face.ByExternalBoundary(rect_wire, False)\n",
    "    return rect_face\n",
    "\n",
    "\n",
    "def create_faces_and_shell():\n",
    "    \"\"\"\n",
    "    Creates a single-floor 2 x 3 grid of 3×3 square faces (XY-plane),\n",
    "    separated by 0.1 m, plus an enclosing bounding ring 0.3 m offset.\n",
    "    \n",
    "    Returns dict with keys:\n",
    "      - \"faces\": a *LIST* of the 6 square faces\n",
    "      - \"boundingShell\": a Face ring offset by 0.3 m\n",
    "      - \"allGeometry\": everything as a single Cluster\n",
    "    \"\"\"\n",
    "\n",
    "    cell_size = 3.0  # 3 m squares\n",
    "    gap = 0.1  # 0.1 m gap in x,y\n",
    "    num_x = 2\n",
    "    num_y = 3\n",
    "    offset_shell = 0.3  # extra boundary offset\n",
    "\n",
    "    # 1. Build 6 squares in a 2×3 layout\n",
    "    face_list = []\n",
    "    for ix in range(num_x):\n",
    "        for iy in range(num_y):\n",
    "            # Compute lower-left corner of this square\n",
    "            x0 = ix * (cell_size + gap)\n",
    "            y0 = iy * (cell_size + gap)\n",
    "            # Make a 3×3 face\n",
    "            f = rectangle_face(x0, y0, x0 + cell_size, y0 + cell_size)\n",
    "\n",
    "            # Attach a dictionary if you want\n",
    "            d = topologic.Dictionary.ByKeysValues(\n",
    "                [\"ix\", \"iy\"],\n",
    "                [topologic.StringAttribute(str(ix)), topologic.StringAttribute(str(iy))]\n",
    "            )\n",
    "            f.SetDictionary(d)\n",
    "\n",
    "            face_list.append(f)\n",
    "\n",
    "    # 2. Gather all face vertices to find bounding box\n",
    "    #    (We won't combine faces into a single cluster here, so we do it manually)\n",
    "    all_verts = []\n",
    "    for face in face_list:\n",
    "        these_verts = []\n",
    "        face.Vertices(None, these_verts)\n",
    "        all_verts.extend(these_verts)\n",
    "\n",
    "    xs = [v.X() for v in all_verts]\n",
    "    ys = [v.Y() for v in all_verts]\n",
    "\n",
    "    min_x, max_x = min(xs), max(xs)\n",
    "    min_y, max_y = min(ys), max(ys)\n",
    "\n",
    "    # 3. Create 'inner' rectangle exactly bounding the squares\n",
    "    inner_rect = rectangle_face(min_x, min_y, max_x, max_y)\n",
    "\n",
    "    # 4. Create 'outer' rectangle = expanded by 0.3 m\n",
    "    out_min_x = min_x - offset_shell\n",
    "    out_min_y = min_y - offset_shell\n",
    "    out_max_x = max_x + offset_shell\n",
    "    out_max_y = max_y + offset_shell\n",
    "    outer_rect = rectangle_face(out_min_x, out_min_y, out_max_x, out_max_y)\n",
    "\n",
    "    # 5. Difference => ring bounding shell\n",
    "    bounding_shell = topologic.Topology.Difference(outer_rect, inner_rect)\n",
    "\n",
    "    # 6. Combine everything into one cluster for \"allGeometry\"\n",
    "    #    This cluster has the bounding shell face plus the 6 separate faces\n",
    "    all_geo = topologic.Cluster.ByTopologies(face_list + [bounding_shell], False)\n",
    "\n",
    "    return {\n",
    "        \"faces\": face_list,  # <-- a plain Python list of faces\n",
    "        \"boundingShell\": bounding_shell,  # the ring offset by 0.3\n",
    "        \"allGeometry\": all_geo  # cluster of everything\n",
    "    }"
   ],
   "id": "66eae74d52efd04a",
   "outputs": [],
   "execution_count": 2
  },
  {
   "metadata": {
    "ExecuteTime": {
     "end_time": "2025-01-29T11:42:38.212058Z",
     "start_time": "2025-01-29T11:42:38.204367Z"
    }
   },
   "cell_type": "code",
   "source": [
    "result = create_faces_and_shell()\n",
    "faces = result[\"faces\"]\n",
    "shell = result[\"boundingShell\"]\n",
    "geo = result[\"allGeometry\"]"
   ],
   "id": "6c9713ad1d727541",
   "outputs": [],
   "execution_count": 3
  },
  {
   "metadata": {
    "ExecuteTime": {
     "end_time": "2025-01-29T11:42:39.462852Z",
     "start_time": "2025-01-29T11:42:38.213360Z"
    }
   },
   "cell_type": "code",
   "source": "Topology.Show(shell, faces, renderer=renderer)",
   "id": "4eba4ebb3c53516c",
   "outputs": [],
   "execution_count": 4
  },
  {
   "metadata": {
    "ExecuteTime": {
     "end_time": "2025-01-29T11:42:39.501253Z",
     "start_time": "2025-01-29T11:42:39.480609Z"
    }
   },
   "cell_type": "code",
   "source": [
    "print(\"Shell: \" + shell.__str__())\n",
    "print(\"Faces: \" + faces.__str__())"
   ],
   "id": "4d9de0e8552ceadb",
   "outputs": [
    {
     "name": "stdout",
     "output_type": "stream",
     "text": [
      "Shell: <topologic_core.Face object at 0x13534ee70>\n",
      "Faces: [<topologic_core.Face object at 0x13534c370>, <topologic_core.Face object at 0x13534c0b0>, <topologic_core.Face object at 0x13534c270>, <topologic_core.Face object at 0x13534c230>, <topologic_core.Face object at 0x13534f1b0>, <topologic_core.Face object at 0x13534c130>]\n"
     ]
    }
   ],
   "execution_count": 5
  },
  {
   "metadata": {
    "ExecuteTime": {
     "end_time": "2025-01-29T11:42:39.527441Z",
     "start_time": "2025-01-29T11:42:39.508979Z"
    }
   },
   "cell_type": "code",
   "source": [
    "test_face = faces[0]\n",
    "edges = Face.Edges(test_face)\n",
    "side_length = Edge.Length(edges[0])\n",
    "print(\"Side length of one interior square:\", side_length)"
   ],
   "id": "dd4378b2e7251a8f",
   "outputs": [
    {
     "name": "stdout",
     "output_type": "stream",
     "text": [
      "Side length of one interior square: 3.0\n"
     ]
    }
   ],
   "execution_count": 6
  }
 ],
 "metadata": {
  "kernelspec": {
   "display_name": "Python 3",
   "language": "python",
   "name": "python3"
  },
  "language_info": {
   "codemirror_mode": {
    "name": "ipython",
    "version": 2
   },
   "file_extension": ".py",
   "mimetype": "text/x-python",
   "name": "python",
   "nbconvert_exporter": "python",
   "pygments_lexer": "ipython2",
   "version": "2.7.6"
  }
 },
 "nbformat": 4,
 "nbformat_minor": 5
}
