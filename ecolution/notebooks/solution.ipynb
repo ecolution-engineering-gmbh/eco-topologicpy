{
 "cells": [
  {
   "metadata": {
    "ExecuteTime": {
     "end_time": "2025-01-29T15:48:52.778856Z",
     "start_time": "2025-01-29T15:48:51.018749Z"
    }
   },
   "cell_type": "code",
   "source": [
    "from topologicpy.Graph import Graph\n",
    "from topologicpy.Helper import Helper\n",
    "import topologicpy\n",
    "from topologicpy.Topology import Topology\n",
    "from topologicpy.Vertex import Vertex\n",
    "from topologicpy.Wire import Wire\n",
    "from topologicpy.Face import Face\n",
    "from topologicpy.Shell import Shell\n",
    "from topologicpy.Cell import Cell\n",
    "from topologicpy.Dictionary import Dictionary\n",
    "from topologicpy.Cluster import Cluster\n",
    "from src.topologicpy.Edge import Edge\n",
    "from src.topologicpy.CellComplex import CellComplex\n",
    "\n",
    "print(Helper.Version())\n",
    "print(topologicpy.__file__)\n",
    "renderer = \"browser\""
   ],
   "id": "3311f0bcb3167c67",
   "outputs": [
    {
     "name": "stdout",
     "output_type": "stream",
     "text": [
      "The version that you are using (0.8.15) is the latest version available on PyPI.\n",
      "/Users/roger/miniconda3/lib/python3.12/site-packages/topologicpy/__init__.py\n"
     ]
    }
   ],
   "execution_count": 1
  },
  {
   "metadata": {},
   "cell_type": "markdown",
   "source": "# Cube Grid Function",
   "id": "a3f6278c90a361d"
  },
  {
   "metadata": {
    "ExecuteTime": {
     "end_time": "2025-01-29T15:48:54.472197Z",
     "start_time": "2025-01-29T15:48:52.782662Z"
    }
   },
   "cell_type": "code",
   "source": [
    "building_complex = CellComplex.Box(width=3, length=3, height=3, uSides=3, vSides=3, wSides=3)\n",
    "print(building_complex)\n",
    "\n",
    "Topology.Show(building_complex, renderer=renderer)"
   ],
   "id": "da16e6598e8f53f2",
   "outputs": [
    {
     "name": "stdout",
     "output_type": "stream",
     "text": [
      "<topologic_core.CellComplex object at 0x1231377f0>\n"
     ]
    }
   ],
   "execution_count": 2
  },
  {
   "metadata": {
    "ExecuteTime": {
     "end_time": "2025-01-29T15:58:43.216084Z",
     "start_time": "2025-01-29T15:58:43.209918Z"
    }
   },
   "cell_type": "code",
   "source": [
    "from topologicpy.Topology import Topology\n",
    "from topologicpy.CellComplex import CellComplex\n",
    "from topologicpy.Vertex import Vertex\n",
    "from topologicpy.Face import Face\n",
    "\n",
    "\n",
    "def create_environment_shell(building_complex):\n",
    "    \"\"\"\n",
    "    Creates an environment shell centered around `building_complex` with a **horizontal separation**.\n",
    "    Returns both the repositioned `building_complex` and `env_shell`.\n",
    "\n",
    "    Parameters:\n",
    "        building_complex (topologic_core.CellComplex): The building.\n",
    "\n",
    "    Returns:\n",
    "        tuple: (repositioned_building_complex, env_shell)\n",
    "    \"\"\"\n",
    "    width, length, height = 4.0, 4.0, 4.0  # Environment box size\n",
    "\n",
    "    lower_ratio = 0.3  # 20% lower part\n",
    "    upper_ratio = 1.0 - lower_ratio  # 80% upper part\n",
    "\n",
    "    lower_height = height * lower_ratio\n",
    "    upper_height = height * upper_ratio\n",
    "\n",
    "    # Compute bounding box of the building\n",
    "    building_bb = Topology.BoundingBox(building_complex)\n",
    "    bb_vertices = Topology.Vertices(building_bb)\n",
    "\n",
    "    min_z = min(Vertex.Z(v) for v in bb_vertices)\n",
    "    max_z = max(Vertex.Z(v) for v in bb_vertices)\n",
    "    building_center = Topology.Centroid(building_complex)\n",
    "\n",
    "    # Compute the vertical center shift\n",
    "    building_height = max_z - min_z\n",
    "    building_center_z = (max_z + min_z) / 2  # Midpoint of the building height\n",
    "    env_bottom = building_center_z - height / 2  # Centering env_complex\n",
    "\n",
    "    # Move `building_complex` to align its center with `env_complex`\n",
    "    building_offset_z = -building_center_z  # Move building to world origin\n",
    "    repositioned_building_complex = Topology.Translate(building_complex, 0, 0, building_offset_z)\n",
    "\n",
    "    # Create full environment shell\n",
    "    env_full = CellComplex.Box(\n",
    "        width=width, length=length, height=height,\n",
    "        uSides=1, vSides=1, wSides=1  # Single cell before splitting\n",
    "    )\n",
    "\n",
    "    # Compute the exact shift for correct alignment\n",
    "    env_offset_z = env_bottom - min(Vertex.Z(v) for v in Topology.Vertices(env_full))\n",
    "\n",
    "    # Move env_complex to match the repositioned `building_complex`\n",
    "    env_complex = Topology.Translate(env_full, 0, 0, env_offset_z)\n",
    "\n",
    "    # Create the horizontal split at **20% height**\n",
    "    split_height = env_bottom + lower_height  # The split should be 20% up\n",
    "    split_face = Face.Rectangle(\n",
    "        origin=Vertex.ByCoordinates(0, 0, split_height),\n",
    "        width=width * 1.1, length=length * 1.1\n",
    "    )\n",
    "\n",
    "    # Slice the environment shell at this height\n",
    "    sliced_env = Topology.Slice(env_complex, split_face)\n",
    "\n",
    "    # Ensure both halves exist\n",
    "    env_cells = CellComplex.Cells(sliced_env)\n",
    "    if not env_cells:\n",
    "        print(\"⚠️ Error: No cells found after slicing. Returning original environment shell.\")\n",
    "        return repositioned_building_complex, env_complex\n",
    "\n",
    "    # Create a new shell from the separated parts\n",
    "    env_shell = Topology.Difference(sliced_env, repositioned_building_complex)\n",
    "\n",
    "    return repositioned_building_complex, env_shell"
   ],
   "id": "ce814034e1dc1615",
   "outputs": [],
   "execution_count": 21
  },
  {
   "metadata": {
    "ExecuteTime": {
     "end_time": "2025-01-29T16:27:03.033191Z",
     "start_time": "2025-01-29T16:26:56.872693Z"
    }
   },
   "cell_type": "code",
   "source": [
    "building_complex, env_complex = create_environment_shell(building_complex)\n",
    "\n",
    "building_graph = Graph.ByTopology(building_complex, viaSharedTopologies=True, toExteriorTopologies=True)\n",
    "env_graph = Graph.ByTopology(env_complex, toExteriorTopologies=True)\n",
    "\n",
    "print(env_complex)\n",
    "print(building_complex)\n",
    "print(building_graph)\n",
    "print(env_graph)\n",
    "\n",
    "Topology.Show(env_complex, env_graph, renderer=renderer)\n",
    "Topology.Show(building_complex, building_graph, renderer=renderer)"
   ],
   "id": "f41ec539c8b2d694",
   "outputs": [
    {
     "name": "stdout",
     "output_type": "stream",
     "text": [
      "<topologic_core.CellComplex object at 0x1339adaf0>\n",
      "<topologic_core.CellComplex object at 0x133934df0>\n",
      "<topologic_core.Graph object at 0x1338c8670>\n",
      "<topologic_core.Graph object at 0x1339353b0>\n"
     ]
    }
   ],
   "execution_count": 40
  },
  {
   "metadata": {},
   "cell_type": "markdown",
   "source": "",
   "id": "65675a6f53e91398"
  },
  {
   "metadata": {},
   "cell_type": "markdown",
   "source": "# TODO: Brauchen eigene Graph Funktion basierend auf Centroids oder in Wand (Boden / Aussen) als Zonen speichern?",
   "id": "1167548645f31dee"
  },
  {
   "metadata": {
    "ExecuteTime": {
     "end_time": "2025-01-29T16:36:02.988850Z",
     "start_time": "2025-01-29T16:36:01.271984Z"
    }
   },
   "cell_type": "code",
   "source": "Topology.Show(env_complex, building_graph, env_graph, renderer=renderer)",
   "id": "c912701eade3de9e",
   "outputs": [],
   "execution_count": 42
  },
  {
   "metadata": {
    "ExecuteTime": {
     "end_time": "2025-01-29T16:23:20.285782Z",
     "start_time": "2025-01-29T16:23:17.894111Z"
    }
   },
   "cell_type": "code",
   "source": [
    "building_graph = Graph.ByTopology(\n",
    "    building_complex,\n",
    "    viaSharedTopologies=True,\n",
    "    toExteriorTopologies=True\n",
    ")\n",
    "env_graph = Graph.ByTopology(\n",
    "    env_complex,\n",
    "    toExteriorTopologies=True\n",
    ")\n",
    "\n",
    "b_topo = Graph.Topology(building_graph)\n",
    "e_topo = Graph.Topology(env_graph)\n",
    "\n",
    "merged_topo = Topology.Merge(b_topo, e_topo, tolerance=0.001)\n",
    "merged_graph = Graph.ByTopology(merged_topo)\n",
    "\n",
    "Topology.Show(env_complex, merged_graph, renderer=renderer)"
   ],
   "id": "222e06cf050ec2ac",
   "outputs": [],
   "execution_count": 39
  },
  {
   "metadata": {
    "ExecuteTime": {
     "end_time": "2025-01-29T16:51:17.800253Z",
     "start_time": "2025-01-29T16:51:17.783305Z"
    }
   },
   "cell_type": "code",
   "source": [
    "def _flatten_topologies(input_topos, flattenType=\"Cell\"):\n",
    "    \"\"\"\n",
    "    Zerlegt die eingehenden Topologien in 'flattenType'-Untereinheiten. \n",
    "    Kann z. B. \"Cell\" oder \"Face\" sein. Je nachdem erhältst du eine Liste \n",
    "    aller Cells oder Faces aus dem jeweiligen Topology-Objekt.\n",
    "    \"\"\"\n",
    "    result = []\n",
    "    for topo in input_topos:\n",
    "        if not Topology.IsInstance(topo, \"Topology\"):\n",
    "            continue\n",
    "\n",
    "        if flattenType.lower() == \"cell\":\n",
    "            # Alle Zellen (Cells) aus dem Topology extrahieren\n",
    "            sub_cells = Topology.Cells(topo)\n",
    "            result.extend(sub_cells)\n",
    "        elif flattenType.lower() == \"face\":\n",
    "            # Alle Faces extrahieren\n",
    "            sub_faces = Topology.Faces(topo)\n",
    "            result.extend(sub_faces)\n",
    "        else:\n",
    "            # Fallback: falls ein anderer String oder None, \n",
    "            # einfach das Original-Objekt einfügen\n",
    "            result.append(topo)\n",
    "\n",
    "    return result\n",
    "\n",
    "\n",
    "def by_topologies(topologies, flatten=True, flattenType=\"Cell\", tolerance=0.0001):\n",
    "    \"\"\"\n",
    "    Erzeugt einen Graphen auf Basis der übergebenen Topologien.\n",
    "    Jeder Graph-Knoten wird jeweils der Zentroid (CenterOfMass) einer \n",
    "    aufgesplitteten (Sub-)Topologie (z.B. einer einzelnen Cell oder Face).\n",
    "\n",
    "    standard: flatten=True, flattenType=\"Cell\"\n",
    "      => pro Input-Topologie => alle Cells => \n",
    "         jeder Node = Zentroid jeder Cell,\n",
    "         Edges = wenn sich 2 Cells eine Face teilen.\n",
    "\n",
    "    Parameter\n",
    "    ---------\n",
    "    topologies : list\n",
    "        Liste aus Topology-Objekten (z.B. ein CellComplex oder ein Cluster).\n",
    "    flatten : bool\n",
    "        Falls True, zerlegen wir die eingehenden Topologien in \n",
    "        'flattenType'-Untereinheiten (Cell/Face).\n",
    "    flattenType : str\n",
    "        \"Cell\" oder \"Face\" (oder \"Wire\", etc.). Wie du willst.\n",
    "    tolerance : float\n",
    "        Toleranzwert für Edge-Konstuktion.\n",
    "\n",
    "    Returns\n",
    "    -------\n",
    "    topologic.Graph\n",
    "        Ein Graph mit je einem Knoten pro (Sub-)Topologie,\n",
    "        Kanten, falls sich 2 Sub-Topologien eine Face teilen.\n",
    "    \"\"\"\n",
    "\n",
    "    # (A) Vorverarbeitung / Zerlegung\n",
    "    if flatten:\n",
    "        topologies = _flatten_topologies(topologies, flattenType=flattenType)\n",
    "\n",
    "    # (B) Liste (Topology, Zentroid)\n",
    "    centroid_vertices = []\n",
    "    for topo in topologies:\n",
    "        if not Topology.IsInstance(topo, \"Topology\"):\n",
    "            continue\n",
    "        centroid = Topology.CenterOfMass(topo)\n",
    "        centroid_vertices.append((topo, centroid))\n",
    "\n",
    "    # (C) Kanten anlegen (Adjacency: Shared Faces)\n",
    "    n = len(centroid_vertices)\n",
    "    edges = []\n",
    "    visited_pairs = set()\n",
    "\n",
    "    for i in range(n):\n",
    "        topo_i, cent_i = centroid_vertices[i]\n",
    "        faces_i = Topology.Faces(topo_i)\n",
    "\n",
    "        for j in range(i + 1, n):\n",
    "            topo_j, cent_j = centroid_vertices[j]\n",
    "            if (i, j) in visited_pairs or (j, i) in visited_pairs:\n",
    "                continue\n",
    "\n",
    "            # Prüfe, ob topo_i und topo_j mindestens eine Face gemeinsam haben\n",
    "            shared_something = False\n",
    "            for fi in faces_i:\n",
    "                shared_faces = Topology.SharedFaces(fi, topo_j)\n",
    "                if len(shared_faces) > 0:\n",
    "                    # => JA, sie teilen sich was\n",
    "                    shared_something = True\n",
    "                    break\n",
    "\n",
    "            if shared_something:\n",
    "                e = Edge.ByVertices([cent_i, cent_j], tolerance=tolerance)\n",
    "                edges.append(e)\n",
    "\n",
    "            visited_pairs.add((i, j))\n",
    "            visited_pairs.add((j, i))\n",
    "\n",
    "    # (D) Bau den Graph\n",
    "    only_vertices = [cv[1] for cv in centroid_vertices]\n",
    "    g = Graph.ByVerticesEdges(only_vertices, edges)\n",
    "    return g"
   ],
   "id": "40da207f18b52b90",
   "outputs": [],
   "execution_count": 51
  },
  {
   "metadata": {
    "ExecuteTime": {
     "end_time": "2025-01-29T17:01:09.928045Z",
     "start_time": "2025-01-29T17:01:08.511490Z"
    }
   },
   "cell_type": "code",
   "source": [
    "\n",
    "# 1) Beispiel: Du hast eine Liste mit CellComplex-Objekten\n",
    "big_comps = [building_complex, env_complex]\n",
    "\n",
    "# 2) Du willst Knoten = jede Cell => also flattenType=\"Cell\"\n",
    "graph_cells = by_topologies(big_comps, flatten=True, flattenType=\"Cell\")\n",
    "\n",
    "# 3) ODER du willst Knoten = jede Face => flattenType=\"Face\"\n",
    "graph_faces = by_topologies(big_comps, flatten=True, flattenType=\"Face\")\n",
    "\n",
    "Topology.Show(env_complex, graph_cells, graph_faces, renderer=renderer)"
   ],
   "id": "cd288450da8ba919",
   "outputs": [],
   "execution_count": 56
  },
  {
   "metadata": {},
   "cell_type": "code",
   "outputs": [],
   "execution_count": null,
   "source": "",
   "id": "74a66307d974d285"
  }
 ],
 "metadata": {
  "kernelspec": {
   "display_name": "Python 3",
   "language": "python",
   "name": "python3"
  },
  "language_info": {
   "codemirror_mode": {
    "name": "ipython",
    "version": 2
   },
   "file_extension": ".py",
   "mimetype": "text/x-python",
   "name": "python",
   "nbconvert_exporter": "python",
   "pygments_lexer": "ipython2",
   "version": "2.7.6"
  }
 },
 "nbformat": 4,
 "nbformat_minor": 5
}
