{
 "cells": [
  {
   "metadata": {
    "ExecuteTime": {
     "end_time": "2025-01-31T09:29:33.125449Z",
     "start_time": "2025-01-31T09:29:29.608130Z"
    }
   },
   "cell_type": "code",
   "source": [
    "from topologicpy.Graph import Graph\n",
    "from topologicpy.Helper import Helper\n",
    "import topologicpy\n",
    "from topologicpy.Topology import Topology\n",
    "from topologicpy.Vertex import Vertex\n",
    "from topologicpy.Wire import Wire\n",
    "from topologicpy.Face import Face\n",
    "from topologicpy.Shell import Shell\n",
    "from topologicpy.Cell import Cell\n",
    "from topologicpy.Dictionary import Dictionary\n",
    "from topologicpy.Cluster import Cluster\n",
    "from src.topologicpy.Edge import Edge\n",
    "from src.topologicpy.CellComplex import CellComplex\n",
    "\n",
    "print(Helper.Version())\n",
    "print(topologicpy.__file__)\n",
    "renderer = \"browser\""
   ],
   "id": "3311f0bcb3167c67",
   "outputs": [
    {
     "name": "stderr",
     "output_type": "stream",
     "text": [
      "/opt/anaconda3/envs/eco-topologicpy/lib/python3.8/site-packages/tqdm/auto.py:21: TqdmWarning: IProgress not found. Please update jupyter and ipywidgets. See https://ipywidgets.readthedocs.io/en/stable/user_install.html\n",
      "  from .autonotebook import tqdm as notebook_tqdm\n"
     ]
    },
    {
     "name": "stdout",
     "output_type": "stream",
     "text": [
      "The version that you are using (0.8.15) is the latest version available on PyPI.\n",
      "/opt/anaconda3/envs/eco-topologicpy/lib/python3.8/site-packages/topologicpy/__init__.py\n"
     ]
    }
   ],
   "execution_count": 1
  },
  {
   "metadata": {},
   "cell_type": "markdown",
   "source": "# Cube Grid Function",
   "id": "a3f6278c90a361d"
  },
  {
   "metadata": {
    "ExecuteTime": {
     "end_time": "2025-01-31T09:29:34.319175Z",
     "start_time": "2025-01-31T09:29:33.211040Z"
    }
   },
   "cell_type": "code",
   "source": [
    "building_complex = CellComplex.Box(width=3, length=3, height=3, uSides=3, vSides=3, wSides=3)\n",
    "print(building_complex)\n",
    "\n",
    "#Topology.Show(building_complex, renderer=renderer)"
   ],
   "id": "da16e6598e8f53f2",
   "outputs": [
    {
     "name": "stdout",
     "output_type": "stream",
     "text": [
      "<topologic_core.CellComplex object at 0x14632fab0>\n"
     ]
    }
   ],
   "execution_count": 2
  },
  {
   "metadata": {
    "ExecuteTime": {
     "end_time": "2025-01-31T09:29:34.364708Z",
     "start_time": "2025-01-31T09:29:34.358545Z"
    }
   },
   "cell_type": "code",
   "source": [
    "from topologicpy.Topology import Topology\n",
    "from topologicpy.CellComplex import CellComplex\n",
    "from topologicpy.Vertex import Vertex\n",
    "from topologicpy.Face import Face\n",
    "\n",
    "\n",
    "def create_environment_shell(building_complex):\n",
    "    \"\"\"\n",
    "    Creates an environment shell centered around `building_complex` with a **horizontal separation**.\n",
    "    Returns both the repositioned `building_complex` and `env_shell`.\n",
    "\n",
    "    Parameters:\n",
    "        building_complex (topologic_core.CellComplex): The building.\n",
    "\n",
    "    Returns:\n",
    "        tuple: (repositioned_building_complex, env_shell)\n",
    "    \"\"\"\n",
    "    width, length, height = 4.0, 4.0, 4.0  \n",
    "\n",
    "    lower_ratio = 0.3  \n",
    "    upper_ratio = 1.0 - lower_ratio  \n",
    "\n",
    "    lower_height = height * lower_ratio\n",
    "    upper_height = height * upper_ratio\n",
    "\n",
    "    building_bb = Topology.BoundingBox(building_complex)\n",
    "    bb_vertices = Topology.Vertices(building_bb)\n",
    "\n",
    "    min_z = min(Vertex.Z(v) for v in bb_vertices)\n",
    "    max_z = max(Vertex.Z(v) for v in bb_vertices)\n",
    "    building_center = Topology.Centroid(building_complex)\n",
    "\n",
    "    # Compute the vertical center shift\n",
    "    building_height = max_z - min_z\n",
    "    building_center_z = (max_z + min_z) / 2 \n",
    "    env_bottom = building_center_z - height / 2\n",
    "\n",
    "    building_offset_z = -building_center_z \n",
    "    repositioned_building_complex = Topology.Translate(building_complex, 0, 0, building_offset_z)\n",
    "\n",
    "    env_full = CellComplex.Box(\n",
    "        width=width, length=length, height=height,\n",
    "        uSides=1, vSides=1, wSides=1 \n",
    "    )\n",
    "\n",
    "    env_offset_z = env_bottom - min(Vertex.Z(v) for v in Topology.Vertices(env_full))\n",
    "    env_complex = Topology.Translate(env_full, 0, 0, env_offset_z)\n",
    "\n",
    "    split_height = env_bottom + lower_height\n",
    "    split_face = Face.Rectangle(\n",
    "        origin=Vertex.ByCoordinates(0, 0, split_height),\n",
    "        width=width * 1.1, length=length * 1.1\n",
    "    )\n",
    "\n",
    "    sliced_env = Topology.Slice(env_complex, split_face)\n",
    "\n",
    "    env_cells = CellComplex.Cells(sliced_env)\n",
    "    if not env_cells:\n",
    "        print(\"⚠️ Error: No cells found after slicing. Returning original environment shell.\")\n",
    "        return repositioned_building_complex, env_complex\n",
    "\n",
    "    env_shell = Topology.Difference(sliced_env, repositioned_building_complex)\n",
    "\n",
    "    return repositioned_building_complex, env_shell"
   ],
   "id": "ce814034e1dc1615",
   "outputs": [],
   "execution_count": 3
  },
  {
   "metadata": {
    "ExecuteTime": {
     "end_time": "2025-01-31T09:29:38.930140Z",
     "start_time": "2025-01-31T09:29:34.369251Z"
    }
   },
   "cell_type": "code",
   "source": [
    "building_complex, env_complex = create_environment_shell(building_complex)\n",
    "\n",
    "\n",
    "building_graph = Graph.ByTopology(building_complex, viaSharedTopologies=True, toExteriorTopologies=True)\n",
    "env_graph = Graph.ByTopology(env_complex, toExteriorTopologies=True)\n",
    "\n",
    "print(env_complex)\n",
    "print(building_complex)\n",
    "print(building_graph)\n",
    "print(env_graph)\n",
    "\n",
    "#Topology.Show(env_complex, env_graph, renderer=renderer)\n",
    "#Topology.Show(building_complex, building_graph, renderer=renderer)"
   ],
   "id": "f41ec539c8b2d694",
   "outputs": [
    {
     "name": "stdout",
     "output_type": "stream",
     "text": [
      "<topologic_core.CellComplex object at 0x146b041f0>\n",
      "<topologic_core.CellComplex object at 0x146bed1b0>\n",
      "<topologic_core.Graph object at 0x146bfde70>\n",
      "<topologic_core.Graph object at 0x146bf4670>\n"
     ]
    }
   ],
   "execution_count": 4
  },
  {
   "metadata": {
    "ExecuteTime": {
     "end_time": "2025-01-31T09:58:53.386528Z",
     "start_time": "2025-01-31T09:57:40.507872Z"
    }
   },
   "cell_type": "code",
   "source": [
    "merged = Topology.Merge(building_complex, env_complex)\n",
    "m_graph = Graph.ByTopology(merged, useInternalVertex=True, viaSharedTopologies=True)"
   ],
   "id": "6659a7eaba9d4bb5",
   "outputs": [],
   "execution_count": 21
  },
  {
   "metadata": {
    "ExecuteTime": {
     "end_time": "2025-01-31T10:00:11.986194Z",
     "start_time": "2025-01-31T10:00:10.266179Z"
    }
   },
   "cell_type": "code",
   "source": [
    "Topology.Show(merged, m_graph, renderer=renderer, sagitta=0.05, faceOpacity=0.1, absolute=False,\n",
    "              vertexSizeKey=\"closeness_centrality\", backgroundColor=\"white\")"
   ],
   "id": "1a9616e88833c76b",
   "outputs": [],
   "execution_count": 22
  },
  {
   "metadata": {},
   "cell_type": "markdown",
   "source": "# TODO: Brauchen eigene Graph Funktion basierend auf Centroids oder in Wand (Boden / Aussen) als Zonen speichern?",
   "id": "1167548645f31dee"
  },
  {
   "metadata": {
    "ExecuteTime": {
     "end_time": "2025-01-31T10:02:01.369274Z",
     "start_time": "2025-01-31T10:02:00.988486Z"
    }
   },
   "cell_type": "code",
   "source": "Graph.PyvisGraph(m_graph, \"/Users/ecolutionengineering/PycharmProjects/eco-topologicpy/ecolution/notebooks\")",
   "id": "fd1275c6fc870657",
   "outputs": [
    {
     "name": "stdout",
     "output_type": "stream",
     "text": [
      "/Users/ecolutionengineering/PycharmProjects/eco-topologicpy/ecolution/notebooks.html\n"
     ]
    }
   ],
   "execution_count": 23
  },
  {
   "metadata": {},
   "cell_type": "code",
   "outputs": [],
   "execution_count": null,
   "source": "",
   "id": "85575a38c94b7c8"
  }
 ],
 "metadata": {
  "kernelspec": {
   "display_name": "Python 3",
   "language": "python",
   "name": "python3"
  },
  "language_info": {
   "codemirror_mode": {
    "name": "ipython",
    "version": 2
   },
   "file_extension": ".py",
   "mimetype": "text/x-python",
   "name": "python",
   "nbconvert_exporter": "python",
   "pygments_lexer": "ipython2",
   "version": "2.7.6"
  }
 },
 "nbformat": 4,
 "nbformat_minor": 5
}
