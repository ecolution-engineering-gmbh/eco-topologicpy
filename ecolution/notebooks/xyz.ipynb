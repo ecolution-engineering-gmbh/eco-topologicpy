{
 "cells": [
  {
   "metadata": {
    "ExecuteTime": {
     "end_time": "2025-01-28T21:14:25.203893Z",
     "start_time": "2025-01-28T21:14:24.235296Z"
    }
   },
   "cell_type": "code",
   "source": [
    "from topologicpy.Graph import Graph\n",
    "from topologicpy.Helper import Helper\n",
    "import topologicpy\n",
    "from topologicpy.Topology import Topology\n",
    "from topologicpy.Vertex import Vertex\n",
    "from topologicpy.Wire import Wire\n",
    "from topologicpy.Face import Face\n",
    "from topologicpy.Shell import Shell\n",
    "from topologicpy.Cell import Cell\n",
    "from topologicpy.Dictionary import Dictionary\n",
    "from topologicpy.Cluster import Cluster\n",
    "\n",
    "print(Helper.Version())\n",
    "renderer = \"browser\""
   ],
   "id": "3311f0bcb3167c67",
   "outputs": [
    {
     "name": "stdout",
     "output_type": "stream",
     "text": [
      "The version that you are using (0.8.15) is the latest version available on PyPI.\n"
     ]
    }
   ],
   "execution_count": 1
  },
  {
   "metadata": {
    "ExecuteTime": {
     "end_time": "2025-01-28T21:14:25.207420Z",
     "start_time": "2025-01-28T21:14:25.204972Z"
    }
   },
   "cell_type": "code",
   "source": "print(topologicpy.__file__)  # Zeigt den Pfad der geladenen TopologicPy-Version",
   "id": "59fb6fa9ea587747",
   "outputs": [
    {
     "name": "stdout",
     "output_type": "stream",
     "text": [
      "/Users/roger/miniconda3/lib/python3.12/site-packages/topologicpy/__init__.py\n"
     ]
    }
   ],
   "execution_count": 2
  },
  {
   "metadata": {},
   "cell_type": "markdown",
   "source": "# Cube Grid Function",
   "id": "a3f6278c90a361d"
  },
  {
   "metadata": {
    "ExecuteTime": {
     "end_time": "2025-01-28T21:14:25.214384Z",
     "start_time": "2025-01-28T21:14:25.208549Z"
    }
   },
   "cell_type": "code",
   "source": [
    "def create_cubes_and_shell():\n",
    "    \"\"\"\n",
    "    Creates a 2 x 3 grid of 3×3×3 cubes stacked 3 levels high,\n",
    "    separated by 0.1 m, and an enclosing bounding shell \n",
    "    expanded by 0.3 m in all directions.\n",
    "\n",
    "    Returns a dict with keys:\n",
    "      - \"cubes\": a cluster of all cubes\n",
    "      - \"boundingShell\": a thick shell offset by 0.3 m\n",
    "      - \"allGeometry\": combined geometry as a single cluster\n",
    "    \"\"\"\n",
    "\n",
    "    # 1. Basic parameters\n",
    "    cell_size = 3.0  # 3m cubes\n",
    "    gap = 0.1  # 10cm gap\n",
    "    num_x = 2\n",
    "    num_y = 3\n",
    "    num_z = 3\n",
    "    offset_shell = 0.3  # 30 cm offset for shell\n",
    "\n",
    "    # 2. Generate all cubes\n",
    "    cubes_list = []\n",
    "    for ix in range(num_x):\n",
    "        for iy in range(num_y):\n",
    "            for iz in range(num_z):\n",
    "                # Offsets for the current cube\n",
    "                offset_x = ix * (cell_size + gap)\n",
    "                offset_y = iy * (cell_size + gap)\n",
    "                offset_z = iz * (cell_size + gap)\n",
    "\n",
    "                # Use Cell.Prism to make each 3×3×3 cube\n",
    "                # at origin=(0,0,0), but \"lowerleft\" so \n",
    "                # (0,0,0) is the lower-left corner\n",
    "                base_cube = Cell.Prism(\n",
    "                    origin=Vertex.Origin(),\n",
    "                    width=cell_size,\n",
    "                    length=cell_size,\n",
    "                    height=cell_size,\n",
    "                    placement=\"lowerleft\"  # ensures bottom face is at z=0\n",
    "                )\n",
    "\n",
    "                # Move the cube into position\n",
    "                moved_cube = Topology.Translate(\n",
    "                    base_cube,\n",
    "                    offset_x, offset_y, offset_z\n",
    "                )\n",
    "\n",
    "                # Attach some dictionary info to the cube\n",
    "                d = Dictionary.ByKeysValues(\n",
    "                    [\"ix\", \"iy\", \"iz\"],\n",
    "                    [ix, iy, iz]\n",
    "                )\n",
    "                moved_cube = Topology.SetDictionary(moved_cube, d)\n",
    "\n",
    "                cubes_list.append(moved_cube)\n",
    "\n",
    "    # Combine into a single cluster\n",
    "    cubes_cluster = Cluster.ByTopologies(cubes_list)\n",
    "\n",
    "    # 3. Compute bounding coords (min_x, max_x, etc.) for the cubes\n",
    "    all_verts = Topology.Vertices(cubes_cluster)\n",
    "    x_vals = [Vertex.X(v) for v in all_verts]\n",
    "    y_vals = [Vertex.Y(v) for v in all_verts]\n",
    "    z_vals = [Vertex.Z(v) for v in all_verts]\n",
    "\n",
    "    min_x, max_x = min(x_vals), max(x_vals)\n",
    "    min_y, max_y = min(y_vals), max(y_vals)\n",
    "    min_z, max_z = min(z_vals), max(z_vals)\n",
    "\n",
    "    # 4. Build the \"inner\" bounding prism (exactly around cubes)\n",
    "    inner_prism = Cell.Prism(\n",
    "        origin=Vertex.ByCoordinates(min_x, min_y, min_z),\n",
    "        width=(max_x - min_x),\n",
    "        length=(max_y - min_y),\n",
    "        height=(max_z - min_z),\n",
    "        placement=\"lowerleft\"  # means that (min_x, min_y, min_z) \n",
    "        # is the lower-left corner\n",
    "    )\n",
    "\n",
    "    # 5. Build the \"outer\" bounding prism = expanded by 0.3 m\n",
    "    outer_prism = Cell.Prism(\n",
    "        origin=Vertex.ByCoordinates(min_x - offset_shell,\n",
    "                                    min_y - offset_shell,\n",
    "                                    min_z - offset_shell),\n",
    "        width=(max_x - min_x) + 2 * offset_shell,\n",
    "        length=(max_y - min_y) + 2 * offset_shell,\n",
    "        height=(max_z - min_z) + 2 * offset_shell,\n",
    "        placement=\"lowerleft\"\n",
    "    )\n",
    "\n",
    "    # 6. Subtract the inner from outer => thick bounding shell\n",
    "    bounding_shell = Topology.Difference(outer_prism, inner_prism)\n",
    "\n",
    "    # 7. Combine everything\n",
    "    final_cluster = Cluster.ByTopologies([cubes_cluster, bounding_shell])\n",
    "\n",
    "    return {\n",
    "        \"cubes\": cubes_cluster,\n",
    "        \"boundingShell\": bounding_shell,\n",
    "        \"allGeometry\": final_cluster\n",
    "    }"
   ],
   "id": "81912b9c520546a6",
   "outputs": [],
   "execution_count": 3
  },
  {
   "metadata": {},
   "cell_type": "markdown",
   "source": "# Create Cubes Cluster 2*3 Grid",
   "id": "2ec1da1fd957200d"
  },
  {
   "cell_type": "code",
   "id": "initial_id",
   "metadata": {
    "collapsed": true,
    "ExecuteTime": {
     "end_time": "2025-01-28T21:14:25.439311Z",
     "start_time": "2025-01-28T21:14:25.215880Z"
    }
   },
   "source": [
    "result = create_cubes_and_shell()\n",
    "\n",
    "cubes = result[\"cubes\"]\n",
    "shell = result[\"boundingShell\"]\n",
    "all_geo = result[\"allGeometry\"]"
   ],
   "outputs": [],
   "execution_count": 4
  },
  {
   "metadata": {
    "ExecuteTime": {
     "end_time": "2025-01-28T21:14:26.612700Z",
     "start_time": "2025-01-28T21:14:25.439905Z"
    }
   },
   "cell_type": "code",
   "source": "Topology.Show(cubes, shell, renderer=renderer)",
   "id": "111455ed38ec0714",
   "outputs": [],
   "execution_count": 5
  },
  {
   "metadata": {},
   "cell_type": "markdown",
   "source": "# Face Grid Function",
   "id": "bfd30967d74bca09"
  },
  {
   "metadata": {
    "ExecuteTime": {
     "end_time": "2025-01-28T21:17:33.093579Z",
     "start_time": "2025-01-28T21:17:33.082090Z"
    }
   },
   "cell_type": "code",
   "source": [
    "import topologic_core as topologic\n",
    "\n",
    "def rectangle_face(min_x, min_y, max_x, max_y):\n",
    "    \"\"\"\n",
    "    Manually build a rectangle face in the XY plane from (min_x, min_y) to (max_x, max_y).\n",
    "    1. Make four vertices\n",
    "    2. Make four edges\n",
    "    3. Combine into a wire\n",
    "    4. Make a face by Face.ByExternalBoundary\n",
    "    \"\"\"\n",
    "    # 1. Corner vertices in 2D (z=0)\n",
    "    vA = topologic.Vertex.ByCoordinates(min_x, min_y, 0)\n",
    "    vB = topologic.Vertex.ByCoordinates(max_x, min_y, 0)\n",
    "    vC = topologic.Vertex.ByCoordinates(max_x, max_y, 0)\n",
    "    vD = topologic.Vertex.ByCoordinates(min_x, max_y, 0)\n",
    "\n",
    "    # 2. Four edges\n",
    "    eAB = topologic.Edge.ByStartVertexEndVertex(vA, vB)\n",
    "    eBC = topologic.Edge.ByStartVertexEndVertex(vB, vC)\n",
    "    eCD = topologic.Edge.ByStartVertexEndVertex(vC, vD)\n",
    "    eDA = topologic.Edge.ByStartVertexEndVertex(vD, vA)\n",
    "\n",
    "    # 3. Single wire from these edges\n",
    "    rect_wire = topologic.Wire.ByEdges([eAB, eBC, eCD, eDA], False)\n",
    "\n",
    "    # 4. Face from the wire\n",
    "    rect_face = topologic.Face.ByExternalBoundary(rect_wire, False)\n",
    "    return rect_face\n",
    "\n",
    "def create_faces_and_shell():\n",
    "    \"\"\"\n",
    "    Creates a single-floor 2 x 3 grid of 3×3 square faces (XY-plane),\n",
    "    separated by 0.1 m, plus an enclosing bounding ring 0.3 m offset.\n",
    "    \n",
    "    Returns dict with keys:\n",
    "      - \"faces\": a *LIST* of the 6 square faces\n",
    "      - \"boundingShell\": a Face ring offset by 0.3 m\n",
    "      - \"allGeometry\": everything as a single Cluster\n",
    "    \"\"\"\n",
    "\n",
    "    cell_size = 3.0  # 3 m squares\n",
    "    gap = 0.1        # 0.1 m gap in x,y\n",
    "    num_x = 2\n",
    "    num_y = 3\n",
    "    offset_shell = 0.3  # extra boundary offset\n",
    "\n",
    "    # 1. Build 6 squares in a 2×3 layout\n",
    "    face_list = []\n",
    "    for ix in range(num_x):\n",
    "        for iy in range(num_y):\n",
    "            # Compute lower-left corner of this square\n",
    "            x0 = ix * (cell_size + gap)\n",
    "            y0 = iy * (cell_size + gap)\n",
    "            # Make a 3×3 face\n",
    "            f = rectangle_face(x0, y0, x0 + cell_size, y0 + cell_size)\n",
    "\n",
    "            # Attach a dictionary if you want\n",
    "            d = topologic.Dictionary.ByKeysValues(\n",
    "                [\"ix\", \"iy\"],\n",
    "                [topologic.StringAttribute(str(ix)), topologic.StringAttribute(str(iy))]\n",
    "            )\n",
    "            f.SetDictionary(d)\n",
    "\n",
    "            face_list.append(f)\n",
    "\n",
    "    # 2. Gather all face vertices to find bounding box\n",
    "    #    (We won't combine faces into a single cluster here, so we do it manually)\n",
    "    all_verts = []\n",
    "    for face in face_list:\n",
    "        these_verts = []\n",
    "        face.Vertices(None, these_verts)\n",
    "        all_verts.extend(these_verts)\n",
    "\n",
    "    xs = [v.X() for v in all_verts]\n",
    "    ys = [v.Y() for v in all_verts]\n",
    "\n",
    "    min_x, max_x = min(xs), max(xs)\n",
    "    min_y, max_y = min(ys), max(ys)\n",
    "\n",
    "    # 3. Create 'inner' rectangle exactly bounding the squares\n",
    "    inner_rect = rectangle_face(min_x, min_y, max_x, max_y)\n",
    "\n",
    "    # 4. Create 'outer' rectangle = expanded by 0.3 m\n",
    "    out_min_x = min_x - offset_shell\n",
    "    out_min_y = min_y - offset_shell\n",
    "    out_max_x = max_x + offset_shell\n",
    "    out_max_y = max_y + offset_shell\n",
    "    outer_rect = rectangle_face(out_min_x, out_min_y, out_max_x, out_max_y)\n",
    "\n",
    "    # 5. Difference => ring bounding shell\n",
    "    bounding_shell = topologic.Topology.Difference(outer_rect, inner_rect)\n",
    "\n",
    "    # 6. Combine everything into one cluster for \"allGeometry\"\n",
    "    #    This cluster has the bounding shell face plus the 6 separate faces\n",
    "    all_geo = topologic.Cluster.ByTopologies(face_list + [bounding_shell], False)\n",
    "\n",
    "    return {\n",
    "        \"faces\": face_list,              # <-- a plain Python list of faces\n",
    "        \"boundingShell\": bounding_shell, # the ring offset by 0.3\n",
    "        \"allGeometry\": all_geo           # cluster of everything\n",
    "    }"
   ],
   "id": "b5d25788f43743be",
   "outputs": [],
   "execution_count": 22
  },
  {
   "metadata": {},
   "cell_type": "markdown",
   "source": "# Compute 2*3 Face Grid with Shell",
   "id": "cb471961549f7158"
  },
  {
   "metadata": {
    "ExecuteTime": {
     "end_time": "2025-01-28T21:17:44.219174Z",
     "start_time": "2025-01-28T21:17:44.208585Z"
    }
   },
   "cell_type": "code",
   "source": [
    "result = create_faces_and_shell()\n",
    "faces = result[\"faces\"]         \n",
    "shell = result[\"boundingShell\"]  \n",
    "geo = result[\"allGeometry\"]      "
   ],
   "id": "43b0beac5f8ae597",
   "outputs": [],
   "execution_count": 23
  },
  {
   "metadata": {
    "ExecuteTime": {
     "end_time": "2025-01-28T21:17:45.445713Z",
     "start_time": "2025-01-28T21:17:44.977289Z"
    }
   },
   "cell_type": "code",
   "source": "Topology.Show(shell, faces, renderer=renderer)",
   "id": "111065b580e8e1a",
   "outputs": [],
   "execution_count": 24
  },
  {
   "metadata": {
    "ExecuteTime": {
     "end_time": "2025-01-28T21:14:27.204392Z",
     "start_time": "2025-01-28T21:14:27.191376Z"
    }
   },
   "cell_type": "code",
   "source": [
    "print(\"Shell: \" + shell.__str__())\n",
    "print(\"Faces: \" + faces.__str__())"
   ],
   "id": "d898079d50cfeba1",
   "outputs": [
    {
     "name": "stdout",
     "output_type": "stream",
     "text": [
      "Shell: <topologic_core.Face object at 0x128a60170>\n",
      "Faces: [<topologic_core.Face object at 0x128a380f0>, <topologic_core.Face object at 0x128a3a4f0>, <topologic_core.Face object at 0x128a3a7f0>, <topologic_core.Face object at 0x128a380b0>, <topologic_core.Face object at 0x128a39fb0>, <topologic_core.Face object at 0x128a38fb0>]\n"
     ]
    }
   ],
   "execution_count": 9
  },
  {
   "metadata": {},
   "cell_type": "markdown",
   "source": "# Compute Skeleton",
   "id": "266fac162bbfdc62"
  },
  {
   "metadata": {
    "ExecuteTime": {
     "end_time": "2025-01-28T21:14:27.304122Z",
     "start_time": "2025-01-28T21:14:27.220280Z"
    }
   },
   "cell_type": "code",
   "source": [
    "class Shell2():\n",
    "    @staticmethod\n",
    "    def ByDisjointFaces(externalBoundary,\n",
    "                        faces,\n",
    "                        maximumGap: float = 0.5,\n",
    "                        mergeJunctions: bool = False,\n",
    "                        threshold: float = 0.5,\n",
    "                        uSides: int = 1,\n",
    "                        vSides: int = 1,\n",
    "                        transferDictionaries: bool = False,\n",
    "                        mantissa: int = 6,\n",
    "                        tolerance: float = 0.0001):\n",
    "        \"\"\"\n",
    "        Creates a shell from an input list of disjoint faces. THIS IS STILL EXPERIMENTAL\n",
    "        \"\"\"\n",
    "        from tqdm.auto import tqdm\n",
    "        from topologicpy.Vertex import Vertex\n",
    "        from topologicpy.Edge import Edge\n",
    "        from topologicpy.Wire import Wire\n",
    "        from topologicpy.Face import Face\n",
    "        from topologicpy.Cluster import Cluster\n",
    "        from topologicpy.Helper import Helper\n",
    "        from topologicpy.Topology import Topology\n",
    "        from topologicpy.Grid import Grid\n",
    "        from topologicpy.Dictionary import Dictionary\n",
    "\n",
    "        # ---------------------- HELPER FUNCTIONS ---------------------- #\n",
    "        def force_list_of_edges(obj):\n",
    "            \"\"\"\n",
    "            Convert 'obj' to a list of Edge objects, if possible.\n",
    "            obj might be:\n",
    "              - a single Edge\n",
    "              - a Wire\n",
    "              - a Cluster\n",
    "              - a list of edges\n",
    "              - or something else\n",
    "            \"\"\"\n",
    "            if isinstance(obj, list):\n",
    "                # Already a list => assume these are edges or empty\n",
    "                return obj\n",
    "            # Otherwise, attempt to gather edges from it\n",
    "            return Topology.Edges(obj)\n",
    "\n",
    "        def removeShards(edges_or_wire, hostTopology, maximumGap=0.5):\n",
    "            # Ensure 'edges' is a python list of edges\n",
    "            edges_list = force_list_of_edges(edges_or_wire)\n",
    "\n",
    "            returnEdges = []\n",
    "            for e in tqdm(edges_list, desc=\"Removing Shards\", leave=False):\n",
    "                if Edge.Length(e) < maximumGap:\n",
    "                    sv = Edge.StartVertex(e)\n",
    "                    ev = Edge.EndVertex(e)\n",
    "                    sEdges = Topology.SuperTopologies(sv, hostTopology, \"edge\")\n",
    "                    sn = len(sEdges)\n",
    "                    eEdges = Topology.SuperTopologies(ev, hostTopology, \"edge\")\n",
    "                    en = len(eEdges)\n",
    "                    # We skip short edges that are \"dangling\" on a boundary (sn==1 or en==1)\n",
    "                    # But keep them if sn>=2 AND en>=2\n",
    "                    if sn >= 2 and en >= 2:\n",
    "                        returnEdges.append(e)\n",
    "                else:\n",
    "                    returnEdges.append(e)\n",
    "            return returnEdges\n",
    "\n",
    "        def extendEdges(edges_or_wire, hostTopology, maximumGap=0.5):\n",
    "            edges_list = force_list_of_edges(edges_or_wire)\n",
    "\n",
    "            returnEdges = []\n",
    "            for e in tqdm(edges_list, desc=\"Extending Edges\", leave=False):\n",
    "                sv = Edge.StartVertex(e)\n",
    "                ev = Edge.EndVertex(e)\n",
    "                sEdges = Topology.SuperTopologies(sv, hostTopology, \"edge\")\n",
    "                sn = len(sEdges)\n",
    "                eEdges = Topology.SuperTopologies(ev, hostTopology, \"edge\")\n",
    "                en = len(eEdges)\n",
    "                if sn == 1:\n",
    "                    ee = Edge.Extend(e, distance=maximumGap, bothSides=False, reverse=True)\n",
    "                    returnEdges.append(ee)\n",
    "                elif en == 1:\n",
    "                    ee = Edge.Extend(e, distance=maximumGap, bothSides=False, reverse=False)\n",
    "                    returnEdges.append(ee)\n",
    "                else:\n",
    "                    returnEdges.append(e)\n",
    "            return returnEdges\n",
    "\n",
    "        # ------------------- END HELPER FUNCTIONS ------------------- #\n",
    "\n",
    "        facesCluster = Cluster.ByTopologies(faces)\n",
    "\n",
    "        # If externalBoundary has no internal boundaries => fallback\n",
    "        ibList = Face.InternalBoundaries(externalBoundary)\n",
    "        if not ibList:\n",
    "            internalBoundary = externalBoundary\n",
    "        else:\n",
    "            internalBoundary = Face.ByWire(ibList[0], tolerance=tolerance)\n",
    "\n",
    "        # bounding box of that internalBoundary\n",
    "        bb = Topology.BoundingBox(internalBoundary)\n",
    "        bb_d = Topology.Dictionary(bb)\n",
    "        unitU = Dictionary.ValueAtKey(bb_d, 'width') / uSides if uSides else 0\n",
    "        unitV = Dictionary.ValueAtKey(bb_d, 'length') / vSides if vSides else 0\n",
    "        uRange = [u * unitU for u in range(uSides)]\n",
    "        vRange = [v * unitV for v in range(vSides)]\n",
    "\n",
    "        grid = Grid.EdgesByDistances(face=internalBoundary, uRange=uRange, vRange=vRange, clip=True)\n",
    "        grid = Topology.Slice(internalBoundary, grid, tolerance=tolerance)\n",
    "        grid_faces = Topology.Faces(grid)\n",
    "        skeletons = []\n",
    "\n",
    "        # For each sub-tile => difference with faces => leftover => skeleton\n",
    "        for ib in tqdm(grid_faces, desc=f\"Processing {len(grid_faces)} tiles\", leave=False):\n",
    "            building_shell = Topology.Slice(ib, facesCluster, tolerance=tolerance)\n",
    "            wall_faces = Topology.Faces(building_shell)\n",
    "            walls = []\n",
    "            for w1 in wall_faces:\n",
    "                iv = Topology.InternalVertex(w1, tolerance=tolerance)\n",
    "                # check if iv is inside any original face => skip\n",
    "                inside_flag = False\n",
    "                for w2 in faces:\n",
    "                    if Vertex.IsInternal(iv, w2):\n",
    "                        inside_flag = True\n",
    "                        break\n",
    "                if not inside_flag:\n",
    "                    # means w1 is \"outside\" => we skeletonize it\n",
    "                    walls.append(w1)\n",
    "\n",
    "            for wall in walls:\n",
    "                skeleton = Wire.Skeleton(wall, tolerance=0.001)\n",
    "                skeleton = Topology.Difference(skeleton, facesCluster, tolerance=tolerance)\n",
    "                # also remove the boundary of that tile => so skeleton lines don't overlap\n",
    "                # the face boundary\n",
    "                skeleton = Topology.Difference(skeleton, Face.Wire(wall), tolerance=tolerance)\n",
    "                skeletons.append(skeleton)\n",
    "\n",
    "        if not skeletons:\n",
    "            # No skeleton at all => just return None\n",
    "            return None\n",
    "\n",
    "        # Combine skeleton lines + the internal boundary\n",
    "        skeleton_cluster = Cluster.ByTopologies(skeletons + [internalBoundary])\n",
    "\n",
    "        # 1) Convert to edges, 2) self-merge, 3) remove shards, 4) possibly extend\n",
    "        skEdges = Topology.Edges(skeleton_cluster)\n",
    "        merged_edges = Topology.SelfMerge(Cluster.ByTopologies(skEdges), tolerance=tolerance)\n",
    "        # now remove shards\n",
    "        filtered_list = removeShards(merged_edges, skeleton_cluster, maximumGap=maximumGap)\n",
    "        # then extend edges\n",
    "        extended_list = extendEdges(filtered_list, skeleton_cluster, maximumGap=maximumGap)\n",
    "\n",
    "        if not extended_list:\n",
    "            print(\"ShellByDisjointFaces - Warning: no edges after extension.\")\n",
    "            return None\n",
    "\n",
    "        # Now slice the internal boundary with the final skeleton edges\n",
    "        shell = Topology.Slice(internalBoundary, Cluster.ByTopologies(extended_list), tolerance=tolerance)\n",
    "\n",
    "        if mergeJunctions:\n",
    "            # merges vertices that are close together\n",
    "            vertices = Topology.Vertices(shell)\n",
    "            # We'll gather \"centers\" so we unify them\n",
    "            centers = []\n",
    "            used = []\n",
    "            for v in vertices:\n",
    "                for w in vertices:\n",
    "                    if not Topology.IsSame(v, w) and (w not in used):\n",
    "                        if Vertex.Distance(v, w, mantissa=mantissa) < threshold:\n",
    "                            centers.append(v)\n",
    "                            used.append(w)\n",
    "\n",
    "            # Rebuild edges from the shell\n",
    "            shell_edges = Topology.Edges(shell)  # returns a list\n",
    "            new_edges = []\n",
    "            for e in shell_edges:\n",
    "                sv = Edge.StartVertex(e)\n",
    "                ev = Edge.EndVertex(e)\n",
    "                for cV in centers:\n",
    "                    if Vertex.Distance(sv, cV, mantissa=mantissa) < threshold:\n",
    "                        sv = cV\n",
    "                    if Vertex.Distance(ev, cV, mantissa=mantissa) < threshold:\n",
    "                        ev = cV\n",
    "                new_edges.append(Edge.ByVertices([sv, ev], tolerance=tolerance))\n",
    "\n",
    "            cluster = Cluster.ByTopologies(new_edges)\n",
    "            # Filter x,y coords so we unify\n",
    "            all_vs = Topology.Vertices(cluster)\n",
    "            xVals = list(set([Vertex.X(v, mantissa=mantissa) for v in all_vs]))\n",
    "            yVals = list(set([Vertex.Y(v, mantissa=mantissa) for v in all_vs]))\n",
    "            xVals.sort()\n",
    "            yVals.sort()\n",
    "\n",
    "            xVals = Helper.MergeByThreshold(xVals, 0.5)\n",
    "            yVals = Helper.MergeByThreshold(yVals, 0.5)\n",
    "\n",
    "            # Re-check the original edges in the shell, unify coords\n",
    "            final_edges = []\n",
    "            for e in shell_edges:\n",
    "                sv = Edge.StartVertex(e)\n",
    "                ev = Edge.EndVertex(e)\n",
    "                svx = Vertex.X(sv, mantissa=mantissa)\n",
    "                svy = Vertex.Y(sv, mantissa=mantissa)\n",
    "                evx = Vertex.X(ev, mantissa=mantissa)\n",
    "                evy = Vertex.Y(ev, mantissa=mantissa)\n",
    "\n",
    "                # unify X\n",
    "                for x in xVals:\n",
    "                    if abs(svx - x) < threshold:\n",
    "                        svx = x\n",
    "                        break\n",
    "                for x in xVals:\n",
    "                    if abs(evx - x) < threshold:\n",
    "                        evx = x\n",
    "                        break\n",
    "                # unify Y\n",
    "                for y in yVals:\n",
    "                    if abs(svy - y) < threshold:\n",
    "                        svy = y\n",
    "                        break\n",
    "                for y in yVals:\n",
    "                    if abs(evy - y) < threshold:\n",
    "                        evy = y\n",
    "                        break\n",
    "\n",
    "                new_sv = Vertex.ByCoordinates(svx, svy, 0)\n",
    "                new_ev = Vertex.ByCoordinates(evx, evy, 0)\n",
    "                final_edges.append(Edge.ByVertices([new_sv, new_ev], tolerance=tolerance))\n",
    "\n",
    "            cluster2 = Cluster.ByTopologies(final_edges)\n",
    "            # re-slice the external boundary\n",
    "            extB = Face.ByWire(Wire.Invert(Face.ExternalBoundary(shell)))\n",
    "            # or: extB = Face.ByWire(Shell.ExternalBoundary(shell))\n",
    "            shell = Topology.Slice(extB, cluster2, tolerance=tolerance)\n",
    "\n",
    "        # Make sure we ended up with a real shell\n",
    "        if not Topology.IsInstance(shell, \"Shell\"):\n",
    "            # attempt a fallback\n",
    "            try:\n",
    "                # remove collinear edges from the wires\n",
    "                temp_wires = [Wire.RemoveCollinearEdges(w, angTolerance=1.0)\n",
    "                              for w in Topology.Wires(shell)]\n",
    "                temp_faces = [Face.ByWire(w, tolerance=tolerance)\n",
    "                              for w in temp_wires]\n",
    "            except:\n",
    "                temp_faces = Topology.Faces(shell)\n",
    "            shell = Shell.ByFaces(temp_faces, tolerance=tolerance)\n",
    "\n",
    "        # Transfer dictionaries if desired\n",
    "        if transferDictionaries:\n",
    "            selectors = []\n",
    "            for f in faces:\n",
    "                d = Topology.Dictionary(f)\n",
    "                # place a vertex in the face\n",
    "                s = Topology.InternalVertex(f, tolerance=tolerance)\n",
    "                s = Topology.SetDictionary(s, d)\n",
    "                selectors.append(s)\n",
    "            shell = Topology.TransferDictionariesBySelectors(\n",
    "                topology=shell,\n",
    "                selectors=selectors,\n",
    "                tranFaces=True,\n",
    "                tolerance=tolerance\n",
    "            )\n",
    "\n",
    "        return shell"
   ],
   "id": "50a9692b378b1ed1",
   "outputs": [],
   "execution_count": 10
  },
  {
   "metadata": {
    "ExecuteTime": {
     "end_time": "2025-01-28T21:14:27.314170Z",
     "start_time": "2025-01-28T21:14:27.305913Z"
    }
   },
   "cell_type": "code",
   "source": [
    "def build_skeleton_with_disjoint_faces(\n",
    "        externalBoundary,\n",
    "        subFaces,\n",
    "        maximumGap=0.5,\n",
    "        mergeJunctions=False,\n",
    "        threshold=0.5,\n",
    "        uSides=1,\n",
    "        vSides=1,\n",
    "        tolerance=0.0001\n",
    "):\n",
    "    \"\"\"\n",
    "    Calls the Shell.ByDisjointFaces function on the \n",
    "    externalBoundary + subFaces to produce a skeleton Shell.\n",
    "    \"\"\"\n",
    "    skeleton = Shell2.ByDisjointFaces(\n",
    "        externalBoundary=externalBoundary,\n",
    "        faces=subFaces,\n",
    "        maximumGap=maximumGap,\n",
    "        mergeJunctions=mergeJunctions,\n",
    "        threshold=threshold,\n",
    "        uSides=uSides,\n",
    "        vSides=vSides,\n",
    "        transferDictionaries=False,\n",
    "        mantissa=6,\n",
    "        tolerance=tolerance\n",
    "    )\n",
    "    return skeleton\n",
    "\n",
    "\n",
    "def extrude_skeleton_into_floors(\n",
    "        skeletonShell,\n",
    "        floor_height=3.0,\n",
    "        floors=3\n",
    "):\n",
    "    \"\"\"\n",
    "    Given a 2D skeleton shell, extrude it upward into N floors\n",
    "    (like 'stacking' the 2D skeleton in Z direction).\n",
    "\n",
    "    Returns a cluster of extruded shells (or faces).\n",
    "    \"\"\"\n",
    "    extruded_list = []\n",
    "\n",
    "    for level in range(floors):\n",
    "        # shift in Z\n",
    "        shift_z = level * floor_height\n",
    "        moved = Topology.Translate(skeletonShell, 0, 0, shift_z)\n",
    "        extruded_list.append(moved)\n",
    "\n",
    "    return Cluster.ByTopologies(extruded_list)"
   ],
   "id": "c9e4d3db0ba39387",
   "outputs": [],
   "execution_count": 11
  },
  {
   "metadata": {
    "ExecuteTime": {
     "end_time": "2025-01-28T21:14:35.529065Z",
     "start_time": "2025-01-28T21:14:27.316423Z"
    }
   },
   "cell_type": "code",
   "source": [
    "my_skeleton = build_skeleton_with_disjoint_faces(\n",
    "    externalBoundary=shell,\n",
    "    subFaces=faces,\n",
    "    maximumGap=0.5,\n",
    "    mergeJunctions=True,\n",
    "    threshold=0.5,\n",
    "    uSides=2,\n",
    "    vSides=2\n",
    ")"
   ],
   "id": "15de90fe602a341c",
   "outputs": [
    {
     "data": {
      "text/plain": [
       "Processing 4 tiles:   0%|          | 0/4 [00:00<?, ?it/s]"
      ],
      "application/vnd.jupyter.widget-view+json": {
       "version_major": 2,
       "version_minor": 0,
       "model_id": "434cece57a09466f992987186974a02f"
      }
     },
     "metadata": {},
     "output_type": "display_data"
    },
    {
     "data": {
      "text/plain": [
       "Removing Shards:   0%|          | 0/70 [00:00<?, ?it/s]"
      ],
      "application/vnd.jupyter.widget-view+json": {
       "version_major": 2,
       "version_minor": 0,
       "model_id": "b26ecd89145d41d79bcbb7a70bf5d1e4"
      }
     },
     "metadata": {},
     "output_type": "display_data"
    },
    {
     "data": {
      "text/plain": [
       "Extending Edges:   0%|          | 0/30 [00:00<?, ?it/s]"
      ],
      "application/vnd.jupyter.widget-view+json": {
       "version_major": 2,
       "version_minor": 0,
       "model_id": "e709709400444b579df61c256336765f"
      }
     },
     "metadata": {},
     "output_type": "display_data"
    },
    {
     "name": "stdout",
     "output_type": "stream",
     "text": [
      "Edge.ByStartVertexEndVertex - Error: The input vertexA and vertexB parameters are the same vertex. Returning None.\n",
      "Edge.ByVertices - Error: Could not create an edge. Returning None.\n",
      "caller name: ByDisjointFaces\n",
      "Edge.ByStartVertexEndVertex - Error: The input vertexA and vertexB parameters are the same vertex. Returning None.\n",
      "Edge.ByVertices - Error: Could not create an edge. Returning None.\n",
      "caller name: ByDisjointFaces\n",
      "Edge.ByStartVertexEndVertex - Error: The input vertexA and vertexB parameters are the same vertex. Returning None.\n",
      "Edge.ByVertices - Error: Could not create an edge. Returning None.\n",
      "caller name: ByDisjointFaces\n",
      "Edge.ByStartVertexEndVertex - Error: The input vertexA and vertexB parameters are the same vertex. Returning None.\n",
      "Edge.ByVertices - Error: Could not create an edge. Returning None.\n",
      "caller name: ByDisjointFaces\n",
      "Edge.ByStartVertexEndVertex - Error: The input vertexA and vertexB parameters are the same vertex. Returning None.\n",
      "Edge.ByVertices - Error: Could not create an edge. Returning None.\n",
      "caller name: ByDisjointFaces\n",
      "Edge.ByStartVertexEndVertex - Error: The input vertexA and vertexB parameters are the same vertex. Returning None.\n",
      "Edge.ByVertices - Error: Could not create an edge. Returning None.\n",
      "caller name: ByDisjointFaces\n",
      "Edge.ByStartVertexEndVertex - Error: The input vertexA and vertexB parameters are the same vertex. Returning None.\n",
      "Edge.ByVertices - Error: Could not create an edge. Returning None.\n",
      "caller name: ByDisjointFaces\n",
      "Edge.ByStartVertexEndVertex - Error: The input vertexA and vertexB parameters are the same vertex. Returning None.\n",
      "Edge.ByVertices - Error: Could not create an edge. Returning None.\n",
      "caller name: ByDisjointFaces\n",
      "Edge.ByStartVertexEndVertex - Error: The input vertexA and vertexB parameters are the same vertex. Returning None.\n",
      "Edge.ByVertices - Error: Could not create an edge. Returning None.\n",
      "caller name: ByDisjointFaces\n",
      "Edge.ByStartVertexEndVertex - Error: The input vertexA and vertexB parameters are the same vertex. Returning None.\n",
      "Edge.ByVertices - Error: Could not create an edge. Returning None.\n",
      "caller name: ByDisjointFaces\n",
      "Edge.ByStartVertexEndVertex - Error: The input vertexA and vertexB parameters are the same vertex. Returning None.\n",
      "Edge.ByVertices - Error: Could not create an edge. Returning None.\n",
      "caller name: ByDisjointFaces\n",
      "Edge.ByStartVertexEndVertex - Error: The input vertexA and vertexB parameters are the same vertex. Returning None.\n",
      "Edge.ByVertices - Error: Could not create an edge. Returning None.\n",
      "caller name: ByDisjointFaces\n",
      "Edge.ByStartVertexEndVertex - Error: The input vertexA and vertexB parameters are the same vertex. Returning None.\n",
      "Edge.ByVertices - Error: Could not create an edge. Returning None.\n",
      "caller name: ByDisjointFaces\n",
      "Edge.ByStartVertexEndVertex - Error: The input vertexA and vertexB parameters are the same vertex. Returning None.\n",
      "Edge.ByVertices - Error: Could not create an edge. Returning None.\n",
      "caller name: ByDisjointFaces\n",
      "Edge.ByStartVertexEndVertex - Error: The distance between the input vertexA and vertexB parameters is less than the input tolerance. Returning None.\n",
      "Edge.ByVertices - Error: Could not create an edge. Returning None.\n",
      "caller name: ByDisjointFaces\n",
      "Edge.ByStartVertexEndVertex - Error: The distance between the input vertexA and vertexB parameters is less than the input tolerance. Returning None.\n",
      "Edge.ByVertices - Error: Could not create an edge. Returning None.\n",
      "caller name: ByDisjointFaces\n",
      "Edge.ByStartVertexEndVertex - Error: The distance between the input vertexA and vertexB parameters is less than the input tolerance. Returning None.\n",
      "Edge.ByVertices - Error: Could not create an edge. Returning None.\n",
      "caller name: ByDisjointFaces\n",
      "Edge.ByStartVertexEndVertex - Error: The distance between the input vertexA and vertexB parameters is less than the input tolerance. Returning None.\n",
      "Edge.ByVertices - Error: Could not create an edge. Returning None.\n",
      "caller name: ByDisjointFaces\n",
      "Edge.ByStartVertexEndVertex - Error: The distance between the input vertexA and vertexB parameters is less than the input tolerance. Returning None.\n",
      "Edge.ByVertices - Error: Could not create an edge. Returning None.\n",
      "caller name: ByDisjointFaces\n",
      "Edge.ByStartVertexEndVertex - Error: The distance between the input vertexA and vertexB parameters is less than the input tolerance. Returning None.\n",
      "Edge.ByVertices - Error: Could not create an edge. Returning None.\n",
      "caller name: ByDisjointFaces\n",
      "Edge.ByStartVertexEndVertex - Error: The distance between the input vertexA and vertexB parameters is less than the input tolerance. Returning None.\n",
      "Edge.ByVertices - Error: Could not create an edge. Returning None.\n",
      "caller name: ByDisjointFaces\n",
      "Edge.ByStartVertexEndVertex - Error: The distance between the input vertexA and vertexB parameters is less than the input tolerance. Returning None.\n",
      "Edge.ByVertices - Error: Could not create an edge. Returning None.\n",
      "caller name: ByDisjointFaces\n",
      "Edge.ByStartVertexEndVertex - Error: The distance between the input vertexA and vertexB parameters is less than the input tolerance. Returning None.\n",
      "Edge.ByVertices - Error: Could not create an edge. Returning None.\n",
      "caller name: ByDisjointFaces\n",
      "Edge.ByStartVertexEndVertex - Error: The distance between the input vertexA and vertexB parameters is less than the input tolerance. Returning None.\n",
      "Edge.ByVertices - Error: Could not create an edge. Returning None.\n",
      "caller name: ByDisjointFaces\n",
      "Edge.ByStartVertexEndVertex - Error: The distance between the input vertexA and vertexB parameters is less than the input tolerance. Returning None.\n",
      "Edge.ByVertices - Error: Could not create an edge. Returning None.\n",
      "caller name: ByDisjointFaces\n",
      "Edge.ByStartVertexEndVertex - Error: The distance between the input vertexA and vertexB parameters is less than the input tolerance. Returning None.\n",
      "Edge.ByVertices - Error: Could not create an edge. Returning None.\n",
      "caller name: ByDisjointFaces\n",
      "Edge.ByStartVertexEndVertex - Error: The distance between the input vertexA and vertexB parameters is less than the input tolerance. Returning None.\n",
      "Edge.ByVertices - Error: Could not create an edge. Returning None.\n",
      "caller name: ByDisjointFaces\n",
      "Edge.ByStartVertexEndVertex - Error: The distance between the input vertexA and vertexB parameters is less than the input tolerance. Returning None.\n",
      "Edge.ByVertices - Error: Could not create an edge. Returning None.\n",
      "caller name: ByDisjointFaces\n"
     ]
    }
   ],
   "execution_count": 12
  },
  {
   "metadata": {
    "ExecuteTime": {
     "end_time": "2025-01-28T21:14:35.532026Z",
     "start_time": "2025-01-28T21:14:35.529749Z"
    }
   },
   "cell_type": "code",
   "source": "print(my_skeleton)",
   "id": "edbd9cb9e076f3a5",
   "outputs": [
    {
     "name": "stdout",
     "output_type": "stream",
     "text": [
      "<topologic_core.Shell object at 0x128b25bf0>\n"
     ]
    }
   ],
   "execution_count": 13
  },
  {
   "metadata": {
    "ExecuteTime": {
     "end_time": "2025-01-28T21:14:35.534662Z",
     "start_time": "2025-01-28T21:14:35.532785Z"
    }
   },
   "cell_type": "code",
   "source": "print(f\"floors_cluster object: {my_skeleton}\")",
   "id": "6a091ac3f7b78eb",
   "outputs": [
    {
     "name": "stdout",
     "output_type": "stream",
     "text": [
      "floors_cluster object: <topologic_core.Shell object at 0x128b25bf0>\n"
     ]
    }
   ],
   "execution_count": 14
  },
  {
   "metadata": {
    "ExecuteTime": {
     "end_time": "2025-01-28T21:14:35.537493Z",
     "start_time": "2025-01-28T21:14:35.535259Z"
    }
   },
   "cell_type": "code",
   "source": [
    "faces = Topology.Faces(my_skeleton)\n",
    "print(f\"Number of faces: {len(faces)}\")"
   ],
   "id": "97ca40eac53ef225",
   "outputs": [
    {
     "name": "stdout",
     "output_type": "stream",
     "text": [
      "Number of faces: 7\n"
     ]
    }
   ],
   "execution_count": 15
  },
  {
   "metadata": {
    "ExecuteTime": {
     "end_time": "2025-01-28T21:14:35.540353Z",
     "start_time": "2025-01-28T21:14:35.538226Z"
    }
   },
   "cell_type": "code",
   "source": [
    "edges = Topology.Edges(my_skeleton)\n",
    "print(f\"Number of edges: {len(edges)}\")"
   ],
   "id": "f67293303c3157b8",
   "outputs": [
    {
     "name": "stdout",
     "output_type": "stream",
     "text": [
      "Number of edges: 34\n"
     ]
    }
   ],
   "execution_count": 16
  },
  {
   "metadata": {
    "ExecuteTime": {
     "end_time": "2025-01-28T21:14:35.919892Z",
     "start_time": "2025-01-28T21:14:35.540834Z"
    }
   },
   "cell_type": "code",
   "source": "Topology.Show(my_skeleton, renderer=renderer)",
   "id": "1ac4af24c67ae952",
   "outputs": [],
   "execution_count": 17
  }
 ],
 "metadata": {
  "kernelspec": {
   "display_name": "Python 3",
   "language": "python",
   "name": "python3"
  },
  "language_info": {
   "codemirror_mode": {
    "name": "ipython",
    "version": 2
   },
   "file_extension": ".py",
   "mimetype": "text/x-python",
   "name": "python",
   "nbconvert_exporter": "python",
   "pygments_lexer": "ipython2",
   "version": "2.7.6"
  }
 },
 "nbformat": 4,
 "nbformat_minor": 5
}
